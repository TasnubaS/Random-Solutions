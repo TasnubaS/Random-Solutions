{
  "nbformat": 4,
  "nbformat_minor": 0,
  "metadata": {
    "kernelspec": {
      "display_name": "Python 3",
      "language": "python",
      "name": "python3"
    },
    "language_info": {
      "codemirror_mode": {
        "name": "ipython",
        "version": 3
      },
      "file_extension": ".py",
      "mimetype": "text/x-python",
      "name": "python",
      "nbconvert_exporter": "python",
      "pygments_lexer": "ipython3",
      "version": "3.7.3"
    },
    "colab": {
      "name": "logistic_regression.ipynb",
      "provenance": [],
      "collapsed_sections": [],
      "include_colab_link": true
    }
  },
  "cells": [
    {
      "cell_type": "markdown",
      "metadata": {
        "id": "view-in-github",
        "colab_type": "text"
      },
      "source": [
        "<a href=\"https://colab.research.google.com/github/TasnubaS/Random-Solutions/blob/master/logistic_regression.ipynb\" target=\"_parent\"><img src=\"https://colab.research.google.com/assets/colab-badge.svg\" alt=\"Open In Colab\"/></a>"
      ]
    },
    {
      "cell_type": "markdown",
      "metadata": {
        "id": "XEYtR1ve2yX4"
      },
      "source": [
        "# 0. Download the Data"
      ]
    },
    {
      "cell_type": "code",
      "metadata": {
        "id": "GImBPLtZ2yX7",
        "colab": {
          "base_uri": "https://localhost:8080/"
        },
        "outputId": "23d51d66-2fb4-48a0-d907-ee6fa693ce6a"
      },
      "source": [
        "import urllib.request\n",
        "url = \"https://yangfengji.net/uva-nlp-course/code/sst.zip\"\n",
        "filename, headers = urllib.request.urlretrieve(url, filename=\"sst.zip\")\n",
        "print(\"DONE\")\n",
        "\n",
        "!unzip sst.zip"
      ],
      "execution_count": null,
      "outputs": [
        {
          "output_type": "stream",
          "text": [
            "DONE\n",
            "Archive:  sst.zip\n",
            "   creating: sst/\n",
            "  inflating: sst/tst.tsv             \n",
            "  inflating: sst/dictionary.txt      \n",
            "  inflating: sst/val.tsv             \n",
            "  inflating: sst/trn.tsv             \n"
          ],
          "name": "stdout"
        }
      ]
    },
    {
      "cell_type": "markdown",
      "metadata": {
        "id": "if5WUHmv2yX8"
      },
      "source": [
        "# 1. Data Preprocessing with Sklearn"
      ]
    },
    {
      "cell_type": "markdown",
      "metadata": {
        "id": "Y8wxKrfp2yX8"
      },
      "source": [
        "First, we need to load the necessary packages for data preprocessing. In this case, we will use [Sklearn](), which provides some functions for us to create the bag-of-words representations easily. "
      ]
    },
    {
      "cell_type": "code",
      "metadata": {
        "id": "gonTl2MH2yX9"
      },
      "source": [
        "# Load packages\n",
        "\n",
        "from sklearn.feature_extraction.text import CountVectorizer\n",
        "from matplotlib import pyplot as plt"
      ],
      "execution_count": null,
      "outputs": []
    },
    {
      "cell_type": "markdown",
      "metadata": {
        "id": "kcsKFLSE2yX9"
      },
      "source": [
        "## 1.1 Loading Data"
      ]
    },
    {
      "cell_type": "markdown",
      "metadata": {
        "id": "escfD8C92yX-"
      },
      "source": [
        "We are going to use the [Stanford Sentiment Treebank](https://nlp.stanford.edu/sentiment/index.html) corpus. This is a benchmark dataset, which has been used in many text classification papers in NLP. In this project, we will use the binary classification case, where the dataset for this case is often referred as **SST-2**.\n",
        "\n",
        "We followed the stanard splits offered by this dataset to create \n",
        "\n",
        "1. training set (trn_)\n",
        "2. validation set (val_)\n",
        "3. test set (tst_)"
      ]
    },
    {
      "cell_type": "code",
      "metadata": {
        "id": "Nw1REhnR2yX-"
      },
      "source": [
        "def load_data(fname):\n",
        "    texts, labels = [], []\n",
        "    with open(fname, 'r') as fin:\n",
        "        for line in fin:\n",
        "            items = line.strip().split(\"\\t\")\n",
        "            texts.append(items[1])\n",
        "            labels.append(int(items[0]))\n",
        "    print(\"Reading {} examples from: {}\".format(len(texts), fname))\n",
        "    return texts, labels"
      ],
      "execution_count": null,
      "outputs": []
    },
    {
      "cell_type": "markdown",
      "metadata": {
        "id": "m3PLkyIL2yX_"
      },
      "source": [
        "Load the data and verify the size of each split"
      ]
    },
    {
      "cell_type": "code",
      "metadata": {
        "id": "XIL_IBhe2yX_",
        "colab": {
          "base_uri": "https://localhost:8080/"
        },
        "outputId": "e1655473-e9d8-4036-e178-69c45cbb023a"
      },
      "source": [
        "# Load data\n",
        "trn_texts, trn_labels = load_data(\"sst/trn.tsv\")\n",
        "val_texts, val_labels = load_data(\"sst/val.tsv\")\n",
        "tst_texts, tst_labels = load_data(\"sst/tst.tsv\")"
      ],
      "execution_count": null,
      "outputs": [
        {
          "output_type": "stream",
          "text": [
            "Reading 8256 examples from: sst/trn.tsv\n",
            "Reading 2171 examples from: sst/val.tsv\n",
            "Reading 1084 examples from: sst/tst.tsv\n"
          ],
          "name": "stdout"
        }
      ]
    },
    {
      "cell_type": "markdown",
      "metadata": {
        "id": "RIb_l5C22yYA"
      },
      "source": [
        "## 1.2 Constructing BoW Representations"
      ]
    },
    {
      "cell_type": "markdown",
      "metadata": {
        "id": "8nTsY5jA2yYA"
      },
      "source": [
        "[CountVectorizer]() defines a class that can build a feature vocab and convert texts to numeric vectors based on that vocab. The class constructor has some important parameters\n",
        "\n",
        "- *lowercase*: convert all characters to lowercase before tokenizing.\n",
        "- *min_df*: when building the vocabulary ignore terms that have a document frequency strictly higher than the given threshold (corpus-specific stop words)\n",
        "- *max_df*: when building the vocabulary ignore terms that have a document frequency strictly higher than the given threshold (corpus-specific stop words). \n",
        "- *ngram_range*: The lower and upper boundary of the range of n-values for different word n-grams or char n-grams to be extracted.\n",
        "\n",
        "It provides two basic functions for constructing numeric repersentations of texts\n",
        "\n",
        "- **fit**: read a list of texts, build a vocab from these texts for future use\n",
        "- **fit_transform**: read a list of texts, build a vocab from these texts and then convert them into numeric vectors.\n",
        "- **transform**: read a list of texts and convert them into numeric vectors (it only works after call the **fit** function or the **fit_transform**"
      ]
    },
    {
      "cell_type": "code",
      "metadata": {
        "id": "7rbdgKe42yYA",
        "colab": {
          "base_uri": "https://localhost:8080/"
        },
        "outputId": "55ad4c96-a1ea-4281-fd5d-63d47fe50d5f"
      },
      "source": [
        "vectorizer = CountVectorizer(lowercase=True, min_df=1, max_df=1.0, ngram_range=(1,1))\n",
        "trn_data = vectorizer.fit_transform(trn_texts)\n",
        "val_data = vectorizer.transform(val_texts)\n",
        "tst_data = vectorizer.transform(tst_texts)\n",
        "\n",
        "# Some basic information about data\n",
        "vocab = vectorizer.vocabulary_\n",
        "print(\"Vocab size = {}\".format(len(vocab)))\n",
        "print(\"Size of training data = {}\".format(trn_data.shape))\n",
        "print(\"Size of val data = {}\".format(val_data.shape))\n",
        "print(\"Size of test data = {}\".format(tst_data.shape))"
      ],
      "execution_count": null,
      "outputs": [
        {
          "output_type": "stream",
          "text": [
            "Vocab size = 15248\n",
            "Size of training data = (8256, 15248)\n",
            "Size of val data = (2171, 15248)\n",
            "Size of test data = (1084, 15248)\n"
          ],
          "name": "stdout"
        }
      ]
    },
    {
      "cell_type": "markdown",
      "metadata": {
        "id": "iIBS_tIT2yYB"
      },
      "source": [
        "## 1.3 Word Frequency Analysis"
      ]
    },
    {
      "cell_type": "markdown",
      "metadata": {
        "id": "96zZ_eyr2yYB"
      },
      "source": [
        "As explained in the course lecture, Zipf's law is an empirical law of word frequency in a corpus. It represents the relationship between the rank of a word and its frequency as \n",
        "$$f(w_t) \\propto \\frac{1}{r_t}$$\n",
        "\n",
        "In this section, we can verify this empirical law with the SST data."
      ]
    },
    {
      "cell_type": "code",
      "metadata": {
        "id": "9ZPS44gU2yYB",
        "colab": {
          "base_uri": "https://localhost:8080/",
          "height": 296
        },
        "outputId": "11a92b45-3305-410d-8669-6737a222ef2d"
      },
      "source": [
        "word_counts = trn_data.sum(axis=0).tolist()[0]\n",
        "sorted_word_counts = [i for i in sorted(enumerate(word_counts), key=lambda x:x[1], reverse=True)]\n",
        "ivocab = {val:key for (key, val) in vocab.items()}\n",
        "plt.plot(range(len(ivocab))[:500], [v[1] for v in sorted_word_counts][:500], color=\"red\") # Only the top 500 words\n",
        "plt.xlabel(\"word index\")\n",
        "plt.ylabel(\"word frequency\")"
      ],
      "execution_count": null,
      "outputs": [
        {
          "output_type": "execute_result",
          "data": {
            "text/plain": [
              "Text(0, 0.5, 'word frequency')"
            ]
          },
          "metadata": {
            "tags": []
          },
          "execution_count": 6
        },
        {
          "output_type": "display_data",
          "data": {
            "image/png": "[encoded data removed]",
            "text/plain": [
              "<Figure size 432x288 with 1 Axes>"
            ]
          },
          "metadata": {
            "tags": [],
            "needs_background": "light"
          }
        }
      ]
    },
    {
      "cell_type": "markdown",
      "metadata": {
        "id": "9CaCNbMS2yYC"
      },
      "source": [
        "# 2. Classification with Logistic Regression"
      ]
    },
    {
      "cell_type": "markdown",
      "metadata": {
        "id": "Hw3w_A872yYC"
      },
      "source": [
        "Import the **LogisticRegression** class from **sklearn.linear_model** as the classifier"
      ]
    },
    {
      "cell_type": "code",
      "metadata": {
        "id": "cayrorrx2yYD"
      },
      "source": [
        "from sklearn.linear_model import LogisticRegression"
      ],
      "execution_count": null,
      "outputs": []
    },
    {
      "cell_type": "markdown",
      "metadata": {
        "id": "Knw9AxqR2yYD"
      },
      "source": [
        "The class constructor of **LogisticRegression** has some important parameters\n",
        "\n",
        "- *fit_intercept*: specifies if a constant (a.k.a. bias or intercept) should be added to the decision function.\n",
        "- *penalty*: used to specify the norm used in the penalization.\n",
        "- *C*: inverse of regularization strength $C=\\frac{1}{\\lambda}$; must be a positive float.\n",
        "- *max_iter*: maximum number of iterations taken for the solvers to converge."
      ]
    },
    {
      "cell_type": "code",
      "metadata": {
        "id": "6gPyYfnk2yYD",
        "colab": {
          "base_uri": "https://localhost:8080/"
        },
        "outputId": "e49d99c5-ae25-4d69-e529-ab57b1aa9751"
      },
      "source": [
        "# define a LR classifier\n",
        "\n",
        "classifier = LogisticRegression(fit_intercept=True, penalty=\"l2\", C=1000, max_iter=200)\n",
        "classifier.fit(trn_data, trn_labels)"
      ],
      "execution_count": null,
      "outputs": [
        {
          "output_type": "stream",
          "text": [
            "/usr/local/lib/python3.6/dist-packages/sklearn/linear_model/_logistic.py:940: ConvergenceWarning: lbfgs failed to converge (status=1):\n",
            "STOP: TOTAL NO. of ITERATIONS REACHED LIMIT.\n",
            "\n",
            "Increase the number of iterations (max_iter) or scale the data as shown in:\n",
            "    https://scikit-learn.org/stable/modules/preprocessing.html\n",
            "Please also refer to the documentation for alternative solver options:\n",
            "    https://scikit-learn.org/stable/modules/linear_model.html#logistic-regression\n",
            "  extra_warning_msg=_LOGISTIC_SOLVER_CONVERGENCE_MSG)\n"
          ],
          "name": "stderr"
        },
        {
          "output_type": "execute_result",
          "data": {
            "text/plain": [
              "LogisticRegression(C=1000, class_weight=None, dual=False, fit_intercept=True,\n",
              "                   intercept_scaling=1, l1_ratio=None, max_iter=200,\n",
              "                   multi_class='auto', n_jobs=None, penalty='l2',\n",
              "                   random_state=None, solver='lbfgs', tol=0.0001, verbose=0,\n",
              "                   warm_start=False)"
            ]
          },
          "metadata": {
            "tags": []
          },
          "execution_count": 12
        }
      ]
    },
    {
      "cell_type": "code",
      "metadata": {
        "id": "vVHTZFPG2yYE",
        "colab": {
          "base_uri": "https://localhost:8080/"
        },
        "outputId": "300c0102-700d-4697-b768-40711b986c13"
      },
      "source": [
        "# Measure the performance on training and dev data\n",
        "print(\"Training accuracy = {}\".format(classifier.score(trn_data, trn_labels)))\n",
        "print(\"Val accuracy = {}\".format(classifier.score(val_data, val_labels)))"
      ],
      "execution_count": null,
      "outputs": [
        {
          "output_type": "stream",
          "text": [
            "Training accuracy = 0.9998788759689923\n",
            "Val accuracy = 0.5310916628281898\n"
          ],
          "name": "stdout"
        }
      ]
    },
    {
      "cell_type": "markdown",
      "metadata": {
        "id": "VzRs5mPd2yYE"
      },
      "source": [
        "## 2.1 Classification Weight Analysis\n",
        "\n",
        "In this section, we will look into the classifiers and find out the components of a Logistic Regression classifier in the lecture."
      ]
    },
    {
      "cell_type": "code",
      "metadata": {
        "id": "gFGQ7ea62yYE",
        "colab": {
          "base_uri": "https://localhost:8080/",
          "height": 297
        },
        "outputId": "898f7d40-cffc-44c6-afa7-b6cdb6b28ff7"
      },
      "source": [
        "FIRST=15000\n",
        "\n",
        "weights = classifier.coef_.flatten()\n",
        "word_counts = trn_data.sum(axis=0).tolist()[0]\n",
        "sorted_word_counts = [i for i in sorted(enumerate(word_counts), key=lambda x:x[1], reverse=True)]\n",
        "ivocab = {val:key for (key, val) in vocab.items()}\n",
        "\n",
        "fig, ax1 = plt.subplots()\n",
        "\n",
        "# Draw word frequency\n",
        "color = \"tab:red\"\n",
        "ax1.set_xlabel(\"\")\n",
        "ax1.set_ylabel(\"word frequency\")\n",
        "ax1.plot(range(len(ivocab))[:FIRST], [v[1] for v in sorted_word_counts][:FIRST], color=color)\n",
        "ax1.tick_params(axis='y', labelcolor=color)\n",
        "\n",
        "ax2 = ax1.twinx()\n",
        "\n",
        "color= \"tab:blue\"\n",
        "ax2.set_ylabel(\"weights\")\n",
        "ax2.plot(range(len(ivocab))[:FIRST], [weights[v[0]] for v in sorted_word_counts][:FIRST], color=color)\n",
        "ax2.tick_params(axis='y', labelcolor=color)\n",
        "\n",
        "fig.tight_layout()"
      ],
      "execution_count": null,
      "outputs": [
        {
          "output_type": "display_data",
          "data": {
            "image/png": "[encoded data removed]",
            "text/plain": [
              "<Figure size 432x288 with 2 Axes>"
            ]
          },
          "metadata": {
            "tags": [],
            "needs_background": "light"
          }
        }
      ]
    },
    {
      "cell_type": "markdown",
      "metadata": {
        "id": "H1m_KgJq2yYF"
      },
      "source": [
        "# 3. Homework\n"
      ]
    },
    {
      "cell_type": "markdown",
      "metadata": {
        "id": "zfXfCtwR2yYF"
      },
      "source": [
        ""
      ]
    }
  ]
}